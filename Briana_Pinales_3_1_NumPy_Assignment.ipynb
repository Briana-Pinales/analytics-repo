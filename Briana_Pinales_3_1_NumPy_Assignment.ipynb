{
  "nbformat": 4,
  "nbformat_minor": 0,
  "metadata": {
    "colab": {
      "name": "Briana Pinales 3-1_NumPy_Assignment.ipynb",
      "provenance": [],
      "collapsed_sections": [],
      "include_colab_link": true
    },
    "kernelspec": {
      "name": "python3",
      "display_name": "Python 3"
    }
  },
  "cells": [
    {
      "cell_type": "markdown",
      "metadata": {
        "id": "view-in-github",
        "colab_type": "text"
      },
      "source": [
        "<a href=\"https://colab.research.google.com/github/Briana-Pinales/analytics-repo/blob/main/Briana_Pinales_3_1_NumPy_Assignment.ipynb\" target=\"_parent\"><img src=\"https://colab.research.google.com/assets/colab-badge.svg\" alt=\"Open In Colab\"/></a>"
      ]
    },
    {
      "cell_type": "markdown",
      "metadata": {
        "id": "Vgs8Kp4TidFQ"
      },
      "source": [
        "# Unit 3 - Advanced Python - NumPy - Assignment #1  "
      ]
    },
    {
      "cell_type": "markdown",
      "metadata": {
        "id": "_Hq7Ny79iwgD"
      },
      "source": [
        "## 1. Environment Set up"
      ]
    },
    {
      "cell_type": "code",
      "metadata": {
        "id": "MiB4JCOP5FdJ"
      },
      "source": [
        "import numpy as np"
      ],
      "execution_count": 2,
      "outputs": []
    },
    {
      "cell_type": "code",
      "metadata": {
        "id": "lotvpVpvlKsR"
      },
      "source": [
        "#Dataset from summer Olympic London, year 2012\n",
        "np_olympic_country = np.array(['GBR','China','RUS','US','KOR','JPN','GER'])\n",
        "np_olympic_country_Gold = np.array([29,38,24,46,13,7,11])\n",
        "np_olympic_country_Silver = np.array([17,28,25,28,8,14,11])\n",
        "np_olympic_country_Bronze = np.array([19,22,32,29,7,17,14])"
      ],
      "execution_count": 3,
      "outputs": []
    },
    {
      "cell_type": "code",
      "metadata": {
        "id": "oNXY-CfrlLbE"
      },
      "source": [
        ""
      ],
      "execution_count": 3,
      "outputs": []
    },
    {
      "cell_type": "markdown",
      "metadata": {
        "id": "io_27RSlizno"
      },
      "source": [
        "## 2.\tFind country with maximum gold"
      ]
    },
    {
      "cell_type": "code",
      "source": [
        "np_olympic_country_Gold.max()"
      ],
      "metadata": {
        "colab": {
          "base_uri": "https://localhost:8080/"
        },
        "id": "aUP4RgViFTG6",
        "outputId": "ddc9e320-cd62-4ef4-c5b5-31f1e82d7766"
      },
      "execution_count": 20,
      "outputs": [
        {
          "output_type": "execute_result",
          "data": {
            "text/plain": [
              "46"
            ]
          },
          "metadata": {},
          "execution_count": 20
        }
      ]
    },
    {
      "cell_type": "code",
      "source": [
        "np.where(np_olympic_country_Gold==46)"
      ],
      "metadata": {
        "colab": {
          "base_uri": "https://localhost:8080/"
        },
        "id": "6a68SSSyGpPO",
        "outputId": "a0884d20-2c45-427e-a82f-26a088ee1c2d"
      },
      "execution_count": 24,
      "outputs": [
        {
          "output_type": "execute_result",
          "data": {
            "text/plain": [
              "(array([3]),)"
            ]
          },
          "metadata": {},
          "execution_count": 24
        }
      ]
    },
    {
      "cell_type": "code",
      "source": [
        "np_olympic_country[3]"
      ],
      "metadata": {
        "colab": {
          "base_uri": "https://localhost:8080/",
          "height": 35
        },
        "id": "MDOjSKIbFb1t",
        "outputId": "60a73eec-382e-4d76-e763-adc7d8c0a1ab"
      },
      "execution_count": 23,
      "outputs": [
        {
          "output_type": "execute_result",
          "data": {
            "application/vnd.google.colaboratory.intrinsic+json": {
              "type": "string"
            },
            "text/plain": [
              "'US'"
            ]
          },
          "metadata": {},
          "execution_count": 23
        }
      ]
    },
    {
      "cell_type": "markdown",
      "source": [
        "This is what i thought i had to do before i asked for help"
      ],
      "metadata": {
        "id": "0MF7KkdmG0iD"
      }
    },
    {
      "cell_type": "code",
      "metadata": {
        "id": "Dh1o5cAylSHB",
        "colab": {
          "base_uri": "https://localhost:8080/"
        },
        "outputId": "4e4eee96-420e-44ae-d0f1-4e60a97e0c43"
      },
      "source": [
        "print(np_olympic_country)\n",
        "print(np_olympic_country_Gold)"
      ],
      "execution_count": 4,
      "outputs": [
        {
          "output_type": "stream",
          "name": "stdout",
          "text": [
            "['GBR' 'China' 'RUS' 'US' 'KOR' 'JPN' 'GER']\n",
            "[29 38 24 46 13  7 11]\n"
          ]
        }
      ]
    },
    {
      "cell_type": "code",
      "metadata": {
        "id": "vs8ppR-wlSKL"
      },
      "source": [
        "max_gold = np.array([[np_olympic_country],[np_olympic_country_Gold]])"
      ],
      "execution_count": 5,
      "outputs": []
    },
    {
      "cell_type": "code",
      "source": [
        "max_gold"
      ],
      "metadata": {
        "colab": {
          "base_uri": "https://localhost:8080/"
        },
        "id": "iyvqA8cJ5DiF",
        "outputId": "bc5c347d-acfe-4710-b4e5-7c2871ec644e"
      },
      "execution_count": 6,
      "outputs": [
        {
          "output_type": "execute_result",
          "data": {
            "text/plain": [
              "array([[['GBR', 'China', 'RUS', 'US', 'KOR', 'JPN', 'GER']],\n",
              "\n",
              "       [['29', '38', '24', '46', '13', '7', '11']]], dtype='<U21')"
            ]
          },
          "metadata": {},
          "execution_count": 6
        }
      ]
    },
    {
      "cell_type": "code",
      "source": [
        "print(max_gold)"
      ],
      "metadata": {
        "colab": {
          "base_uri": "https://localhost:8080/"
        },
        "id": "wfOjtsfvy1Q7",
        "outputId": "3cffaf09-7713-4f68-dc76-48b0effcc2a6"
      },
      "execution_count": 7,
      "outputs": [
        {
          "output_type": "stream",
          "name": "stdout",
          "text": [
            "[[['GBR' 'China' 'RUS' 'US' 'KOR' 'JPN' 'GER']]\n",
            "\n",
            " [['29' '38' '24' '46' '13' '7' '11']]]\n"
          ]
        }
      ]
    },
    {
      "cell_type": "code",
      "source": [
        "max_gold.reshape(2,7)"
      ],
      "metadata": {
        "colab": {
          "base_uri": "https://localhost:8080/"
        },
        "id": "Kx3XFAwj6boV",
        "outputId": "7a6f6ae0-1f06-4d24-c2a5-99929b6eb8be"
      },
      "execution_count": 8,
      "outputs": [
        {
          "output_type": "execute_result",
          "data": {
            "text/plain": [
              "array([['GBR', 'China', 'RUS', 'US', 'KOR', 'JPN', 'GER'],\n",
              "       ['29', '38', '24', '46', '13', '7', '11']], dtype='<U21')"
            ]
          },
          "metadata": {},
          "execution_count": 8
        }
      ]
    },
    {
      "cell_type": "code",
      "source": [
        "max_gold.transpose()"
      ],
      "metadata": {
        "colab": {
          "base_uri": "https://localhost:8080/"
        },
        "id": "xtG8ViuGzBKa",
        "outputId": "d3bd4aed-48bb-44d3-ac3c-924941f352bf"
      },
      "execution_count": 9,
      "outputs": [
        {
          "output_type": "execute_result",
          "data": {
            "text/plain": [
              "array([[['GBR', '29']],\n",
              "\n",
              "       [['China', '38']],\n",
              "\n",
              "       [['RUS', '24']],\n",
              "\n",
              "       [['US', '46']],\n",
              "\n",
              "       [['KOR', '13']],\n",
              "\n",
              "       [['JPN', '7']],\n",
              "\n",
              "       [['GER', '11']]], dtype='<U21')"
            ]
          },
          "metadata": {},
          "execution_count": 9
        }
      ]
    },
    {
      "cell_type": "code",
      "source": [
        "gold = max_gold.reshape(7,2)"
      ],
      "metadata": {
        "id": "aYEUK5Bo5oFw"
      },
      "execution_count": 10,
      "outputs": []
    },
    {
      "cell_type": "code",
      "source": [
        "gold"
      ],
      "metadata": {
        "colab": {
          "base_uri": "https://localhost:8080/"
        },
        "id": "Gt-mmHRv54yc",
        "outputId": "68e92cca-6157-4c52-b312-00b47b48e47d"
      },
      "execution_count": 11,
      "outputs": [
        {
          "output_type": "execute_result",
          "data": {
            "text/plain": [
              "array([['GBR', 'China'],\n",
              "       ['RUS', 'US'],\n",
              "       ['KOR', 'JPN'],\n",
              "       ['GER', '29'],\n",
              "       ['38', '24'],\n",
              "       ['46', '13'],\n",
              "       ['7', '11']], dtype='<U21')"
            ]
          },
          "metadata": {},
          "execution_count": 11
        }
      ]
    },
    {
      "cell_type": "code",
      "source": [
        "max(gold[:,1])"
      ],
      "metadata": {
        "colab": {
          "base_uri": "https://localhost:8080/",
          "height": 35
        },
        "id": "RNyyxtzD6Amk",
        "outputId": "1f9ee793-dda0-4dac-ce26-91e2a6638226"
      },
      "execution_count": 12,
      "outputs": [
        {
          "output_type": "execute_result",
          "data": {
            "application/vnd.google.colaboratory.intrinsic+json": {
              "type": "string"
            },
            "text/plain": [
              "'US'"
            ]
          },
          "metadata": {},
          "execution_count": 12
        }
      ]
    },
    {
      "cell_type": "code",
      "source": [
        "#I'm not exactly sure how but i got the right answer"
      ],
      "metadata": {
        "id": "8jS-msVu6rEy"
      },
      "execution_count": 13,
      "outputs": []
    },
    {
      "cell_type": "markdown",
      "metadata": {
        "id": "DAW8m8IQjRyR"
      },
      "source": [
        "## 3.\tFind countries with more than 20 gold medals"
      ]
    },
    {
      "cell_type": "code",
      "metadata": {
        "id": "guULMEhrjYtT",
        "colab": {
          "base_uri": "https://localhost:8080/"
        },
        "outputId": "215eb084-b0a1-4711-f601-c318968215bf"
      },
      "source": [
        "np_olympic_country_Gold"
      ],
      "execution_count": 14,
      "outputs": [
        {
          "output_type": "execute_result",
          "data": {
            "text/plain": [
              "array([29, 38, 24, 46, 13,  7, 11])"
            ]
          },
          "metadata": {},
          "execution_count": 14
        }
      ]
    },
    {
      "cell_type": "code",
      "metadata": {
        "id": "cv946RaOjw-G"
      },
      "source": [
        "passing = np_olympic_country_Gold > 20"
      ],
      "execution_count": 15,
      "outputs": []
    },
    {
      "cell_type": "code",
      "source": [
        "np_olympic_country_Gold[passing]"
      ],
      "metadata": {
        "colab": {
          "base_uri": "https://localhost:8080/"
        },
        "id": "TwccVd-EHL5T",
        "outputId": "f396edf0-0d30-49a0-d0f0-3e6ec202aead"
      },
      "execution_count": 26,
      "outputs": [
        {
          "output_type": "execute_result",
          "data": {
            "text/plain": [
              "array([29, 38, 24, 46])"
            ]
          },
          "metadata": {},
          "execution_count": 26
        }
      ]
    },
    {
      "cell_type": "code",
      "metadata": {
        "id": "4oNKGU70llVg",
        "colab": {
          "base_uri": "https://localhost:8080/"
        },
        "outputId": "aae1665d-9822-4b7b-a20f-562fd37683cc"
      },
      "source": [
        "np.where(np_olympic_country_Gold[passing]"
      ],
      "execution_count": 25,
      "outputs": [
        {
          "output_type": "execute_result",
          "data": {
            "text/plain": [
              "(array([0, 1, 2, 3]),)"
            ]
          },
          "metadata": {},
          "execution_count": 25
        }
      ]
    },
    {
      "cell_type": "code",
      "source": [
        "print(np_olympic_country[0])"
      ],
      "metadata": {
        "colab": {
          "base_uri": "https://localhost:8080/"
        },
        "id": "NiaYWeGjDb7I",
        "outputId": "328ed73c-64a6-4d3f-9be7-12acda6e121e"
      },
      "execution_count": 29,
      "outputs": [
        {
          "output_type": "stream",
          "name": "stdout",
          "text": [
            "GBR\n"
          ]
        }
      ]
    },
    {
      "cell_type": "code",
      "source": [
        "print(np_olympic_country[1])"
      ],
      "metadata": {
        "colab": {
          "base_uri": "https://localhost:8080/"
        },
        "id": "DCuUgn9WHd2L",
        "outputId": "dc06eb00-625f-4ddb-c1f5-f950b66f6fce"
      },
      "execution_count": 30,
      "outputs": [
        {
          "output_type": "stream",
          "name": "stdout",
          "text": [
            "China\n"
          ]
        }
      ]
    },
    {
      "cell_type": "code",
      "source": [
        "print(np_olympic_country[2])"
      ],
      "metadata": {
        "colab": {
          "base_uri": "https://localhost:8080/"
        },
        "id": "QSb1nhPHHg8O",
        "outputId": "ceb6be76-05fb-4cb9-98b9-0bf62e1d283c"
      },
      "execution_count": 34,
      "outputs": [
        {
          "output_type": "stream",
          "name": "stdout",
          "text": [
            "RUS\n"
          ]
        }
      ]
    },
    {
      "cell_type": "code",
      "source": [
        "print(np_olympic_country[3])"
      ],
      "metadata": {
        "colab": {
          "base_uri": "https://localhost:8080/"
        },
        "id": "psJhkPalHpF9",
        "outputId": "d8771773-0749-476f-f3a5-cffbff229572"
      },
      "execution_count": 35,
      "outputs": [
        {
          "output_type": "stream",
          "name": "stdout",
          "text": [
            "US\n"
          ]
        }
      ]
    }
  ]
}